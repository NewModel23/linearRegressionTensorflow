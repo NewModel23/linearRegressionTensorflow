{
 "cells": [
  {
   "cell_type": "code",
   "execution_count": 2,
   "metadata": {},
   "outputs": [],
   "source": [
    "import os\n",
    "os.chdir(\"..\\")"
   ]
  },
  {
   "cell_type": "code",
   "execution_count": 14,
   "metadata": {},
   "outputs": [],
   "source": [
    "from __future__ import print_function\n",
    "\n",
    "import math\n",
    "\n",
    "from IPython import display\n",
    "from matplotlib import cm\n",
    "from matplotlib import gridspec\n",
    "from matplotlib import pyplot as plt\n",
    "import numpy as np\n",
    "import pandas as pd\n",
    "from sklearn import metrics\n",
    "from sklearn.utils import shuffle\n",
    "import tensorflow as tf\n",
    "from tensorflow.python.data import Dataset\n",
    "\n",
    "# My own function to import a XLSX with csv format to propper dataframe\n",
    "from Load_Excel_File import procesa_Excel\n",
    "\n",
    "tf.logging.set_verbosity(tf.logging.ERROR)\n",
    "pd.options.display.max_rows = 10\n",
    "pd.options.display.float_format = '{:.1f}'.format"
   ]
  },
  {
   "cell_type": "code",
   "execution_count": 4,
   "metadata": {},
   "outputs": [],
   "source": [
    "datos = procesa_Excel(\"C:/Users/rguerrerop/documents/TestNAEMx\",'device_failure.xlsx')"
   ]
  },
  {
   "cell_type": "code",
   "execution_count": 15,
   "metadata": {},
   "outputs": [
    {
     "data": {
      "text/html": [
       "<div>\n",
       "<style scoped>\n",
       "    .dataframe tbody tr th:only-of-type {\n",
       "        vertical-align: middle;\n",
       "    }\n",
       "\n",
       "    .dataframe tbody tr th {\n",
       "        vertical-align: top;\n",
       "    }\n",
       "\n",
       "    .dataframe thead th {\n",
       "        text-align: right;\n",
       "    }\n",
       "</style>\n",
       "<table border=\"1\" class=\"dataframe\">\n",
       "  <thead>\n",
       "    <tr style=\"text-align: right;\">\n",
       "      <th></th>\n",
       "      <th>date</th>\n",
       "      <th>device</th>\n",
       "      <th>failure</th>\n",
       "      <th>attribute1</th>\n",
       "      <th>attribute2</th>\n",
       "      <th>attribute3</th>\n",
       "      <th>attribute4</th>\n",
       "      <th>attribute5</th>\n",
       "      <th>attribute6</th>\n",
       "      <th>attribute7</th>\n",
       "      <th>attribute8</th>\n",
       "      <th>attribute9</th>\n",
       "    </tr>\n",
       "  </thead>\n",
       "  <tbody>\n",
       "    <tr>\n",
       "      <th>36471</th>\n",
       "      <td>2015-02-17</td>\n",
       "      <td>S1F0JMRJ</td>\n",
       "      <td>0</td>\n",
       "      <td>21060080</td>\n",
       "      <td>0</td>\n",
       "      <td>0</td>\n",
       "      <td>0</td>\n",
       "      <td>39</td>\n",
       "      <td>275000</td>\n",
       "      <td>0</td>\n",
       "      <td>0</td>\n",
       "      <td>14</td>\n",
       "    </tr>\n",
       "    <tr>\n",
       "      <th>103186</th>\n",
       "      <td>2015-07-15</td>\n",
       "      <td>W1F0N84F</td>\n",
       "      <td>0</td>\n",
       "      <td>175652944</td>\n",
       "      <td>0</td>\n",
       "      <td>0</td>\n",
       "      <td>0</td>\n",
       "      <td>6</td>\n",
       "      <td>321853</td>\n",
       "      <td>0</td>\n",
       "      <td>0</td>\n",
       "      <td>1</td>\n",
       "    </tr>\n",
       "    <tr>\n",
       "      <th>28178</th>\n",
       "      <td>2015-02-05</td>\n",
       "      <td>S1F136KG</td>\n",
       "      <td>0</td>\n",
       "      <td>187099536</td>\n",
       "      <td>0</td>\n",
       "      <td>0</td>\n",
       "      <td>0</td>\n",
       "      <td>11</td>\n",
       "      <td>252121</td>\n",
       "      <td>0</td>\n",
       "      <td>0</td>\n",
       "      <td>0</td>\n",
       "    </tr>\n",
       "    <tr>\n",
       "      <th>73942</th>\n",
       "      <td>2015-04-24</td>\n",
       "      <td>S1F0S7DN</td>\n",
       "      <td>0</td>\n",
       "      <td>65188984</td>\n",
       "      <td>0</td>\n",
       "      <td>0</td>\n",
       "      <td>0</td>\n",
       "      <td>9</td>\n",
       "      <td>329167</td>\n",
       "      <td>0</td>\n",
       "      <td>0</td>\n",
       "      <td>3</td>\n",
       "    </tr>\n",
       "    <tr>\n",
       "      <th>93977</th>\n",
       "      <td>2015-06-18</td>\n",
       "      <td>Z1F0QL3N</td>\n",
       "      <td>0</td>\n",
       "      <td>170147728</td>\n",
       "      <td>0</td>\n",
       "      <td>0</td>\n",
       "      <td>0</td>\n",
       "      <td>10</td>\n",
       "      <td>266206</td>\n",
       "      <td>0</td>\n",
       "      <td>0</td>\n",
       "      <td>0</td>\n",
       "    </tr>\n",
       "  </tbody>\n",
       "</table>\n",
       "</div>"
      ],
      "text/plain": [
       "              date    device  failure  attribute1  attribute2  attribute3  \\\n",
       "36471   2015-02-17  S1F0JMRJ        0    21060080           0           0   \n",
       "103186  2015-07-15  W1F0N84F        0   175652944           0           0   \n",
       "28178   2015-02-05  S1F136KG        0   187099536           0           0   \n",
       "73942   2015-04-24  S1F0S7DN        0    65188984           0           0   \n",
       "93977   2015-06-18  Z1F0QL3N        0   170147728           0           0   \n",
       "\n",
       "        attribute4  attribute5  attribute6  attribute7  attribute8  attribute9  \n",
       "36471            0          39      275000           0           0          14  \n",
       "103186           0           6      321853           0           0           1  \n",
       "28178            0          11      252121           0           0           0  \n",
       "73942            0           9      329167           0           0           3  \n",
       "93977            0          10      266206           0           0           0  "
      ]
     },
     "execution_count": 15,
     "metadata": {},
     "output_type": "execute_result"
    }
   ],
   "source": [
    "datos.head()"
   ]
  },
  {
   "cell_type": "code",
   "execution_count": 110,
   "metadata": {},
   "outputs": [],
   "source": [
    "datos[\"failure\"] = datos[\"failure\"].apply(pd.to_numeric, errors='coerce')\n",
    "processed_features = datos[[\"attribute2\"]]\n",
    "output_targets = datos[[\"failure\"]]"
   ]
  },
  {
   "cell_type": "code",
   "execution_count": 111,
   "metadata": {},
   "outputs": [],
   "source": [
    "datos = shuffle(datos)"
   ]
  },
  {
   "cell_type": "code",
   "execution_count": 112,
   "metadata": {},
   "outputs": [],
   "source": [
    "training_examples = processed_features[0:1060]\n",
    "training_targets = output_targets[0:1060]\n",
    "\n",
    "val_examples = processed_features[1060:1260]\n",
    "val_targets = output_targets[1060:1260]\n",
    "\n",
    "test_examples = processed_features[1260:1460]\n",
    "test_targets = output_targets[1260:1460]"
   ]
  },
  {
   "cell_type": "code",
   "execution_count": 113,
   "metadata": {},
   "outputs": [],
   "source": [
    "# Define  feautures\n",
    "my_feature_columns = [tf.feature_column.numeric_column(\"attribute2\")]\n",
    "\n",
    "# define the preferred optimizer: in this case lets use gradient descent\n",
    "my_optimizer = tf.train.GradientDescentOptimizer(learning_rate=0.01)\n",
    "my_optimizer = tf.contrib.estimator.clip_gradients_by_norm(my_optimizer, 5.0)\n",
    "\n",
    "# Configure the linear regression with our feature columns and optimizer\n",
    "model = tf.estimator.LinearRegressor(feature_columns=my_feature_columns, optimizer=my_optimizer)"
   ]
  },
  {
   "cell_type": "code",
   "execution_count": 114,
   "metadata": {},
   "outputs": [],
   "source": [
    "# i will define my input function here\n",
    "def my_input_fn(features, targets, batch_size=1, shuffle=True, num_epochs=None):\n",
    "    \"\"\" This is for convert features and targets into the format that is required for training\n",
    "        and it will return the element tuple that my training is looking for\n",
    "    \"\"\"\n",
    "    # Converts pandas data into a dict of pandas arrays.\n",
    "    features = {key:np.array(value) for key, value in dict(features).items()}\n",
    "    \n",
    "    # Construct a dataset and configure batching/repeating\n",
    "    ds = Dataset.from_tensor_slices((features, targets))\n",
    "    ds = ds.batch(batch_size).repeat(num_epochs)\n",
    "    \n",
    "    # shuffle the data, if especified\n",
    "    if shuffle:\n",
    "        ds = ds.shuffle(buffer_size=10000)\n",
    "    \n",
    "    # Return the next batch of data.\n",
    "    features, labels = ds.make_one_shot_iterator().get_next()\n",
    "    \n",
    "    return features, labels"
   ]
  },
  {
   "cell_type": "code",
   "execution_count": 115,
   "metadata": {},
   "outputs": [],
   "source": [
    "# And now i can train the model\n",
    "training = model.train(input_fn = lambda:my_input_fn(training_examples, training_targets),steps=1000)"
   ]
  },
  {
   "cell_type": "code",
   "execution_count": 116,
   "metadata": {},
   "outputs": [
    {
     "name": "stdout",
     "output_type": "stream",
     "text": [
      "Root Mean Squared Error (on training data:) 130.257\n",
      "Root Mean Squared Error (on Validation data:) 124.106\n",
      "Root Mean Squared Error (on Testing data:) 30.676\n"
     ]
    }
   ],
   "source": [
    "# If all goes well, i have jkust implemented my very firswt simple linear regression model with tensorflow\n",
    "# and i will evaluate and test how accurate i might be\n",
    "# lets calculate the RMSE, which is very commonly looked at to test how good my model might be\n",
    "train_predictions = model.predict(input_fn=lambda: my_input_fn(training_examples, training_targets, num_epochs=1, shuffle=False))\n",
    "val_predictions = model.predict(input_fn=lambda: my_input_fn(val_examples, val_targets, num_epochs=1, shuffle=False))\n",
    "test_predictions = model.predict(input_fn=lambda: my_input_fn(test_examples, test_targets, num_epochs=1, shuffle=False))\n",
    "\n",
    "# Format predictions as a NP Array, so we can calculate error metrics!\n",
    "train_predictions = np.array([item['predictions'][0] for item in train_predictions])\n",
    "val_predictions = np.array([item['predictions'][0] for item in val_predictions])\n",
    "test_predictions = np.array([item['predictions'][0] for item in test_predictions])\n",
    "\n",
    "# Print Mean Square Error and Root Mean Squared Error!\n",
    "mean_squared_error = metrics.mean_squared_error(train_predictions, training_targets)\n",
    "root_mean_squared_error = math.sqrt(mean_squared_error)\n",
    "print(\"Root Mean Squared Error (on training data:) %0.3f\" % root_mean_squared_error)\n",
    "\n",
    "mean_squared_error = metrics.mean_squared_error(val_predictions, val_targets)\n",
    "root_mean_squared_error = math.sqrt(mean_squared_error)\n",
    "print(\"Root Mean Squared Error (on Validation data:) %0.3f\" % root_mean_squared_error)\n",
    "\n",
    "mean_squared_error = metrics.mean_squared_error(test_predictions, test_targets)\n",
    "root_mean_squared_error = math.sqrt(mean_squared_error)\n",
    "print(\"Root Mean Squared Error (on Testing data:) %0.3f\" % root_mean_squared_error)"
   ]
  },
  {
   "cell_type": "code",
   "execution_count": 117,
   "metadata": {},
   "outputs": [
    {
     "ename": "KeyError",
     "evalue": "'Failure'",
     "output_type": "error",
     "traceback": [
      "\u001b[1;31m---------------------------------------------------------------------------\u001b[0m",
      "\u001b[1;31mKeyError\u001b[0m                                  Traceback (most recent call last)",
      "\u001b[1;32m~\\AppData\\Local\\Continuum\\anaconda3\\lib\\site-packages\\pandas\\core\\indexes\\base.py\u001b[0m in \u001b[0;36mget_loc\u001b[1;34m(self, key, method, tolerance)\u001b[0m\n\u001b[0;32m   3077\u001b[0m             \u001b[1;32mtry\u001b[0m\u001b[1;33m:\u001b[0m\u001b[1;33m\u001b[0m\u001b[1;33m\u001b[0m\u001b[0m\n\u001b[1;32m-> 3078\u001b[1;33m                 \u001b[1;32mreturn\u001b[0m \u001b[0mself\u001b[0m\u001b[1;33m.\u001b[0m\u001b[0m_engine\u001b[0m\u001b[1;33m.\u001b[0m\u001b[0mget_loc\u001b[0m\u001b[1;33m(\u001b[0m\u001b[0mkey\u001b[0m\u001b[1;33m)\u001b[0m\u001b[1;33m\u001b[0m\u001b[1;33m\u001b[0m\u001b[0m\n\u001b[0m\u001b[0;32m   3079\u001b[0m             \u001b[1;32mexcept\u001b[0m \u001b[0mKeyError\u001b[0m\u001b[1;33m:\u001b[0m\u001b[1;33m\u001b[0m\u001b[1;33m\u001b[0m\u001b[0m\n",
      "\u001b[1;32mpandas\\_libs\\index.pyx\u001b[0m in \u001b[0;36mpandas._libs.index.IndexEngine.get_loc\u001b[1;34m()\u001b[0m\n",
      "\u001b[1;32mpandas\\_libs\\index.pyx\u001b[0m in \u001b[0;36mpandas._libs.index.IndexEngine.get_loc\u001b[1;34m()\u001b[0m\n",
      "\u001b[1;32mpandas\\_libs\\hashtable_class_helper.pxi\u001b[0m in \u001b[0;36mpandas._libs.hashtable.PyObjectHashTable.get_item\u001b[1;34m()\u001b[0m\n",
      "\u001b[1;32mpandas\\_libs\\hashtable_class_helper.pxi\u001b[0m in \u001b[0;36mpandas._libs.hashtable.PyObjectHashTable.get_item\u001b[1;34m()\u001b[0m\n",
      "\u001b[1;31mKeyError\u001b[0m: 'Failure'",
      "\nDuring handling of the above exception, another exception occurred:\n",
      "\u001b[1;31mKeyError\u001b[0m                                  Traceback (most recent call last)",
      "\u001b[1;32m<ipython-input-117-5adc4bafb5b3>\u001b[0m in \u001b[0;36m<module>\u001b[1;34m\u001b[0m\n\u001b[0;32m     29\u001b[0m \u001b[1;33m\u001b[0m\u001b[0m\n\u001b[0;32m     30\u001b[0m \u001b[1;31m# plot a scatter plot from our data sample\u001b[0m\u001b[1;33m\u001b[0m\u001b[1;33m\u001b[0m\u001b[1;33m\u001b[0m\u001b[0m\n\u001b[1;32m---> 31\u001b[1;33m \u001b[0mplt\u001b[0m\u001b[1;33m.\u001b[0m\u001b[0mscatter\u001b[0m\u001b[1;33m(\u001b[0m\u001b[0mtrain_sample\u001b[0m\u001b[1;33m[\u001b[0m\u001b[1;34m\"attribute2\"\u001b[0m\u001b[1;33m]\u001b[0m\u001b[1;33m,\u001b[0m \u001b[0mtrain_sample\u001b[0m\u001b[1;33m[\u001b[0m\u001b[1;34m\"Failure\"\u001b[0m\u001b[1;33m]\u001b[0m\u001b[1;33m)\u001b[0m\u001b[1;33m\u001b[0m\u001b[1;33m\u001b[0m\u001b[0m\n\u001b[0m\u001b[0;32m     32\u001b[0m \u001b[0mplt\u001b[0m\u001b[1;33m.\u001b[0m\u001b[0mscatter\u001b[0m\u001b[1;33m(\u001b[0m\u001b[0mval_sample\u001b[0m\u001b[1;33m[\u001b[0m\u001b[1;34m\"attribute2\"\u001b[0m\u001b[1;33m]\u001b[0m\u001b[1;33m,\u001b[0m \u001b[0mval_sample\u001b[0m\u001b[1;33m[\u001b[0m\u001b[1;34m\"Failure\"\u001b[0m\u001b[1;33m]\u001b[0m\u001b[1;33m)\u001b[0m\u001b[1;33m\u001b[0m\u001b[1;33m\u001b[0m\u001b[0m\n\u001b[0;32m     33\u001b[0m \u001b[0mplt\u001b[0m\u001b[1;33m.\u001b[0m\u001b[0mscatter\u001b[0m\u001b[1;33m(\u001b[0m\u001b[0mtest_sample\u001b[0m\u001b[1;33m[\u001b[0m\u001b[1;34m\"attribute2\"\u001b[0m\u001b[1;33m]\u001b[0m\u001b[1;33m,\u001b[0m \u001b[0mtest_sample\u001b[0m\u001b[1;33m[\u001b[0m\u001b[1;34m\"Failure\"\u001b[0m\u001b[1;33m]\u001b[0m\u001b[1;33m)\u001b[0m\u001b[1;33m\u001b[0m\u001b[1;33m\u001b[0m\u001b[0m\n",
      "\u001b[1;32m~\\AppData\\Local\\Continuum\\anaconda3\\lib\\site-packages\\pandas\\core\\frame.py\u001b[0m in \u001b[0;36m__getitem__\u001b[1;34m(self, key)\u001b[0m\n\u001b[0;32m   2686\u001b[0m             \u001b[1;32mreturn\u001b[0m \u001b[0mself\u001b[0m\u001b[1;33m.\u001b[0m\u001b[0m_getitem_multilevel\u001b[0m\u001b[1;33m(\u001b[0m\u001b[0mkey\u001b[0m\u001b[1;33m)\u001b[0m\u001b[1;33m\u001b[0m\u001b[1;33m\u001b[0m\u001b[0m\n\u001b[0;32m   2687\u001b[0m         \u001b[1;32melse\u001b[0m\u001b[1;33m:\u001b[0m\u001b[1;33m\u001b[0m\u001b[1;33m\u001b[0m\u001b[0m\n\u001b[1;32m-> 2688\u001b[1;33m             \u001b[1;32mreturn\u001b[0m \u001b[0mself\u001b[0m\u001b[1;33m.\u001b[0m\u001b[0m_getitem_column\u001b[0m\u001b[1;33m(\u001b[0m\u001b[0mkey\u001b[0m\u001b[1;33m)\u001b[0m\u001b[1;33m\u001b[0m\u001b[1;33m\u001b[0m\u001b[0m\n\u001b[0m\u001b[0;32m   2689\u001b[0m \u001b[1;33m\u001b[0m\u001b[0m\n\u001b[0;32m   2690\u001b[0m     \u001b[1;32mdef\u001b[0m \u001b[0m_getitem_column\u001b[0m\u001b[1;33m(\u001b[0m\u001b[0mself\u001b[0m\u001b[1;33m,\u001b[0m \u001b[0mkey\u001b[0m\u001b[1;33m)\u001b[0m\u001b[1;33m:\u001b[0m\u001b[1;33m\u001b[0m\u001b[1;33m\u001b[0m\u001b[0m\n",
      "\u001b[1;32m~\\AppData\\Local\\Continuum\\anaconda3\\lib\\site-packages\\pandas\\core\\frame.py\u001b[0m in \u001b[0;36m_getitem_column\u001b[1;34m(self, key)\u001b[0m\n\u001b[0;32m   2693\u001b[0m         \u001b[1;31m# get column\u001b[0m\u001b[1;33m\u001b[0m\u001b[1;33m\u001b[0m\u001b[1;33m\u001b[0m\u001b[0m\n\u001b[0;32m   2694\u001b[0m         \u001b[1;32mif\u001b[0m \u001b[0mself\u001b[0m\u001b[1;33m.\u001b[0m\u001b[0mcolumns\u001b[0m\u001b[1;33m.\u001b[0m\u001b[0mis_unique\u001b[0m\u001b[1;33m:\u001b[0m\u001b[1;33m\u001b[0m\u001b[1;33m\u001b[0m\u001b[0m\n\u001b[1;32m-> 2695\u001b[1;33m             \u001b[1;32mreturn\u001b[0m \u001b[0mself\u001b[0m\u001b[1;33m.\u001b[0m\u001b[0m_get_item_cache\u001b[0m\u001b[1;33m(\u001b[0m\u001b[0mkey\u001b[0m\u001b[1;33m)\u001b[0m\u001b[1;33m\u001b[0m\u001b[1;33m\u001b[0m\u001b[0m\n\u001b[0m\u001b[0;32m   2696\u001b[0m \u001b[1;33m\u001b[0m\u001b[0m\n\u001b[0;32m   2697\u001b[0m         \u001b[1;31m# duplicate columns & possible reduce dimensionality\u001b[0m\u001b[1;33m\u001b[0m\u001b[1;33m\u001b[0m\u001b[1;33m\u001b[0m\u001b[0m\n",
      "\u001b[1;32m~\\AppData\\Local\\Continuum\\anaconda3\\lib\\site-packages\\pandas\\core\\generic.py\u001b[0m in \u001b[0;36m_get_item_cache\u001b[1;34m(self, item)\u001b[0m\n\u001b[0;32m   2487\u001b[0m         \u001b[0mres\u001b[0m \u001b[1;33m=\u001b[0m \u001b[0mcache\u001b[0m\u001b[1;33m.\u001b[0m\u001b[0mget\u001b[0m\u001b[1;33m(\u001b[0m\u001b[0mitem\u001b[0m\u001b[1;33m)\u001b[0m\u001b[1;33m\u001b[0m\u001b[1;33m\u001b[0m\u001b[0m\n\u001b[0;32m   2488\u001b[0m         \u001b[1;32mif\u001b[0m \u001b[0mres\u001b[0m \u001b[1;32mis\u001b[0m \u001b[1;32mNone\u001b[0m\u001b[1;33m:\u001b[0m\u001b[1;33m\u001b[0m\u001b[1;33m\u001b[0m\u001b[0m\n\u001b[1;32m-> 2489\u001b[1;33m             \u001b[0mvalues\u001b[0m \u001b[1;33m=\u001b[0m \u001b[0mself\u001b[0m\u001b[1;33m.\u001b[0m\u001b[0m_data\u001b[0m\u001b[1;33m.\u001b[0m\u001b[0mget\u001b[0m\u001b[1;33m(\u001b[0m\u001b[0mitem\u001b[0m\u001b[1;33m)\u001b[0m\u001b[1;33m\u001b[0m\u001b[1;33m\u001b[0m\u001b[0m\n\u001b[0m\u001b[0;32m   2490\u001b[0m             \u001b[0mres\u001b[0m \u001b[1;33m=\u001b[0m \u001b[0mself\u001b[0m\u001b[1;33m.\u001b[0m\u001b[0m_box_item_values\u001b[0m\u001b[1;33m(\u001b[0m\u001b[0mitem\u001b[0m\u001b[1;33m,\u001b[0m \u001b[0mvalues\u001b[0m\u001b[1;33m)\u001b[0m\u001b[1;33m\u001b[0m\u001b[1;33m\u001b[0m\u001b[0m\n\u001b[0;32m   2491\u001b[0m             \u001b[0mcache\u001b[0m\u001b[1;33m[\u001b[0m\u001b[0mitem\u001b[0m\u001b[1;33m]\u001b[0m \u001b[1;33m=\u001b[0m \u001b[0mres\u001b[0m\u001b[1;33m\u001b[0m\u001b[1;33m\u001b[0m\u001b[0m\n",
      "\u001b[1;32m~\\AppData\\Local\\Continuum\\anaconda3\\lib\\site-packages\\pandas\\core\\internals.py\u001b[0m in \u001b[0;36mget\u001b[1;34m(self, item, fastpath)\u001b[0m\n\u001b[0;32m   4113\u001b[0m \u001b[1;33m\u001b[0m\u001b[0m\n\u001b[0;32m   4114\u001b[0m             \u001b[1;32mif\u001b[0m \u001b[1;32mnot\u001b[0m \u001b[0misna\u001b[0m\u001b[1;33m(\u001b[0m\u001b[0mitem\u001b[0m\u001b[1;33m)\u001b[0m\u001b[1;33m:\u001b[0m\u001b[1;33m\u001b[0m\u001b[1;33m\u001b[0m\u001b[0m\n\u001b[1;32m-> 4115\u001b[1;33m                 \u001b[0mloc\u001b[0m \u001b[1;33m=\u001b[0m \u001b[0mself\u001b[0m\u001b[1;33m.\u001b[0m\u001b[0mitems\u001b[0m\u001b[1;33m.\u001b[0m\u001b[0mget_loc\u001b[0m\u001b[1;33m(\u001b[0m\u001b[0mitem\u001b[0m\u001b[1;33m)\u001b[0m\u001b[1;33m\u001b[0m\u001b[1;33m\u001b[0m\u001b[0m\n\u001b[0m\u001b[0;32m   4116\u001b[0m             \u001b[1;32melse\u001b[0m\u001b[1;33m:\u001b[0m\u001b[1;33m\u001b[0m\u001b[1;33m\u001b[0m\u001b[0m\n\u001b[0;32m   4117\u001b[0m                 \u001b[0mindexer\u001b[0m \u001b[1;33m=\u001b[0m \u001b[0mnp\u001b[0m\u001b[1;33m.\u001b[0m\u001b[0marange\u001b[0m\u001b[1;33m(\u001b[0m\u001b[0mlen\u001b[0m\u001b[1;33m(\u001b[0m\u001b[0mself\u001b[0m\u001b[1;33m.\u001b[0m\u001b[0mitems\u001b[0m\u001b[1;33m)\u001b[0m\u001b[1;33m)\u001b[0m\u001b[1;33m[\u001b[0m\u001b[0misna\u001b[0m\u001b[1;33m(\u001b[0m\u001b[0mself\u001b[0m\u001b[1;33m.\u001b[0m\u001b[0mitems\u001b[0m\u001b[1;33m)\u001b[0m\u001b[1;33m]\u001b[0m\u001b[1;33m\u001b[0m\u001b[1;33m\u001b[0m\u001b[0m\n",
      "\u001b[1;32m~\\AppData\\Local\\Continuum\\anaconda3\\lib\\site-packages\\pandas\\core\\indexes\\base.py\u001b[0m in \u001b[0;36mget_loc\u001b[1;34m(self, key, method, tolerance)\u001b[0m\n\u001b[0;32m   3078\u001b[0m                 \u001b[1;32mreturn\u001b[0m \u001b[0mself\u001b[0m\u001b[1;33m.\u001b[0m\u001b[0m_engine\u001b[0m\u001b[1;33m.\u001b[0m\u001b[0mget_loc\u001b[0m\u001b[1;33m(\u001b[0m\u001b[0mkey\u001b[0m\u001b[1;33m)\u001b[0m\u001b[1;33m\u001b[0m\u001b[1;33m\u001b[0m\u001b[0m\n\u001b[0;32m   3079\u001b[0m             \u001b[1;32mexcept\u001b[0m \u001b[0mKeyError\u001b[0m\u001b[1;33m:\u001b[0m\u001b[1;33m\u001b[0m\u001b[1;33m\u001b[0m\u001b[0m\n\u001b[1;32m-> 3080\u001b[1;33m                 \u001b[1;32mreturn\u001b[0m \u001b[0mself\u001b[0m\u001b[1;33m.\u001b[0m\u001b[0m_engine\u001b[0m\u001b[1;33m.\u001b[0m\u001b[0mget_loc\u001b[0m\u001b[1;33m(\u001b[0m\u001b[0mself\u001b[0m\u001b[1;33m.\u001b[0m\u001b[0m_maybe_cast_indexer\u001b[0m\u001b[1;33m(\u001b[0m\u001b[0mkey\u001b[0m\u001b[1;33m)\u001b[0m\u001b[1;33m)\u001b[0m\u001b[1;33m\u001b[0m\u001b[1;33m\u001b[0m\u001b[0m\n\u001b[0m\u001b[0;32m   3081\u001b[0m \u001b[1;33m\u001b[0m\u001b[0m\n\u001b[0;32m   3082\u001b[0m         \u001b[0mindexer\u001b[0m \u001b[1;33m=\u001b[0m \u001b[0mself\u001b[0m\u001b[1;33m.\u001b[0m\u001b[0mget_indexer\u001b[0m\u001b[1;33m(\u001b[0m\u001b[1;33m[\u001b[0m\u001b[0mkey\u001b[0m\u001b[1;33m]\u001b[0m\u001b[1;33m,\u001b[0m \u001b[0mmethod\u001b[0m\u001b[1;33m=\u001b[0m\u001b[0mmethod\u001b[0m\u001b[1;33m,\u001b[0m \u001b[0mtolerance\u001b[0m\u001b[1;33m=\u001b[0m\u001b[0mtolerance\u001b[0m\u001b[1;33m)\u001b[0m\u001b[1;33m\u001b[0m\u001b[1;33m\u001b[0m\u001b[0m\n",
      "\u001b[1;32mpandas\\_libs\\index.pyx\u001b[0m in \u001b[0;36mpandas._libs.index.IndexEngine.get_loc\u001b[1;34m()\u001b[0m\n",
      "\u001b[1;32mpandas\\_libs\\index.pyx\u001b[0m in \u001b[0;36mpandas._libs.index.IndexEngine.get_loc\u001b[1;34m()\u001b[0m\n",
      "\u001b[1;32mpandas\\_libs\\hashtable_class_helper.pxi\u001b[0m in \u001b[0;36mpandas._libs.hashtable.PyObjectHashTable.get_item\u001b[1;34m()\u001b[0m\n",
      "\u001b[1;32mpandas\\_libs\\hashtable_class_helper.pxi\u001b[0m in \u001b[0;36mpandas._libs.hashtable.PyObjectHashTable.get_item\u001b[1;34m()\u001b[0m\n",
      "\u001b[1;31mKeyError\u001b[0m: 'Failure'"
     ]
    },
    {
     "data": {
      "image/png": "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\n",
      "text/plain": [
       "<Figure size 432x288 with 1 Axes>"
      ]
     },
     "metadata": {
      "needs_background": "light"
     },
     "output_type": "display_data"
    }
   ],
   "source": [
    "# I can see that my error values are comming at something around 85 \n",
    "# So this is telling me is that on average everytime i predict the the failures that could happend on a estimated time\n",
    "# and taking the actual values we see that every month has been decreased the failures\n",
    "# I will plot a few points a grapgh and draw my line of best fit\n",
    "# which is my linear regression model.\n",
    "\n",
    "train_sample = datos[0:1060].sample(30)\n",
    "val_sample = datos[0:1060].sample(30)\n",
    "test_sample = datos[0:1060].sample(30)\n",
    "\n",
    "# Get the min and max total rows\n",
    "x_0 = train_sample['attribute2'].min()\n",
    "x_1 = train_sample['attribute2'].max()\n",
    "\n",
    "# Retrieve the final weight and bias generated during training\n",
    "weight = model.get_variable_value('linear/linear_model/attribute2/weights')[0]\n",
    "bias = model.get_variable_value('linear/linear_model/bias_weights')\n",
    "\n",
    "# get the predicted median failures_values for te min and max total_rooms values.\n",
    "y_0 = weight * x_0 + bias\n",
    "y_1 = weight * x_1 + bias\n",
    "\n",
    "# And finally plit our regression line from (x_0, y_0) to (x_1 to y_1)\n",
    "plt.plot([x_0, x_1], [y_0, y_1], c='r')\n",
    "\n",
    "# some format like labels\n",
    "plt.ylabel(\"Failure\")\n",
    "plt.xlabel(\"attribute2\")\n",
    "\n",
    "# plot a scatter plot from our data sample\n",
    "plt.scatter(train_sample[\"attribute2\"], train_sample[\"Failure\"])\n",
    "plt.scatter(val_sample[\"attribute2\"], val_sample[\"Failure\"])\n",
    "plt.scatter(test_sample[\"attribute2\"], test_sample[\"Failure\"])\n",
    "\n",
    "# Display grapgh\n",
    "plt.show()\n",
    "\n",
    "\n"
   ]
  },
  {
   "cell_type": "code",
   "execution_count": 120,
   "metadata": {},
   "outputs": [
    {
     "name": "stdout",
     "output_type": "stream",
     "text": [
      "month\n",
      "1     24\n",
      "2     14\n",
      "3      9\n",
      "4      9\n",
      "5     21\n",
      "      ..\n",
      "7     16\n",
      "8      4\n",
      "9      0\n",
      "10     3\n",
      "11     0\n",
      "Name: failure, Length: 11, dtype: int64        failure\n",
      "month         \n",
      "1           24\n",
      "2           14\n",
      "3            9\n",
      "4            9\n",
      "5           21\n",
      "...        ...\n",
      "7           16\n",
      "8            4\n",
      "9            0\n",
      "10           3\n",
      "11           0\n",
      "\n",
      "[11 rows x 1 columns]\n"
     ]
    },
    {
     "ename": "TypeError",
     "evalue": "only size-1 arrays can be converted to Python scalars",
     "output_type": "error",
     "traceback": [
      "\u001b[1;31m---------------------------------------------------------------------------\u001b[0m",
      "\u001b[1;31mTypeError\u001b[0m                                 Traceback (most recent call last)",
      "\u001b[1;32m<ipython-input-120-fea958d11745>\u001b[0m in \u001b[0;36m<module>\u001b[1;34m\u001b[0m\n\u001b[0;32m     10\u001b[0m \u001b[1;33m\u001b[0m\u001b[0m\n\u001b[0;32m     11\u001b[0m \u001b[1;33m\u001b[0m\u001b[0m\n\u001b[1;32m---> 12\u001b[1;33m \u001b[0mplt\u001b[0m\u001b[1;33m.\u001b[0m\u001b[0mbar\u001b[0m\u001b[1;33m(\u001b[0m\u001b[0mfailure_part\u001b[0m\u001b[1;33m[\u001b[0m\u001b[1;34m'failure'\u001b[0m\u001b[1;33m]\u001b[0m\u001b[1;33m,\u001b[0m\u001b[0mfailure_part\u001b[0m\u001b[1;33m)\u001b[0m\u001b[1;33m\u001b[0m\u001b[1;33m\u001b[0m\u001b[0m\n\u001b[0m\u001b[0;32m     13\u001b[0m \u001b[0mplt\u001b[0m\u001b[1;33m.\u001b[0m\u001b[0mxlabel\u001b[0m\u001b[1;33m(\u001b[0m\u001b[1;34m\"Mes\"\u001b[0m\u001b[1;33m)\u001b[0m\u001b[1;33m\u001b[0m\u001b[1;33m\u001b[0m\u001b[0m\n\u001b[0;32m     14\u001b[0m \u001b[0mplt\u001b[0m\u001b[1;33m.\u001b[0m\u001b[0mylabel\u001b[0m\u001b[1;33m(\u001b[0m\u001b[1;34m\"Fallas\"\u001b[0m\u001b[1;33m)\u001b[0m\u001b[1;33m\u001b[0m\u001b[1;33m\u001b[0m\u001b[0m\n",
      "\u001b[1;32m~\\AppData\\Local\\Continuum\\anaconda3\\lib\\site-packages\\matplotlib\\pyplot.py\u001b[0m in \u001b[0;36mbar\u001b[1;34m(x, height, width, bottom, align, data, **kwargs)\u001b[0m\n\u001b[0;32m   2457\u001b[0m     return gca().bar(\n\u001b[0;32m   2458\u001b[0m         \u001b[0mx\u001b[0m\u001b[1;33m,\u001b[0m \u001b[0mheight\u001b[0m\u001b[1;33m,\u001b[0m \u001b[0mwidth\u001b[0m\u001b[1;33m=\u001b[0m\u001b[0mwidth\u001b[0m\u001b[1;33m,\u001b[0m \u001b[0mbottom\u001b[0m\u001b[1;33m=\u001b[0m\u001b[0mbottom\u001b[0m\u001b[1;33m,\u001b[0m \u001b[0malign\u001b[0m\u001b[1;33m=\u001b[0m\u001b[0malign\u001b[0m\u001b[1;33m,\u001b[0m\u001b[1;33m\u001b[0m\u001b[1;33m\u001b[0m\u001b[0m\n\u001b[1;32m-> 2459\u001b[1;33m         **({\"data\": data} if data is not None else {}), **kwargs)\n\u001b[0m\u001b[0;32m   2460\u001b[0m \u001b[1;33m\u001b[0m\u001b[0m\n\u001b[0;32m   2461\u001b[0m \u001b[1;33m\u001b[0m\u001b[0m\n",
      "\u001b[1;32m~\\AppData\\Local\\Continuum\\anaconda3\\lib\\site-packages\\matplotlib\\__init__.py\u001b[0m in \u001b[0;36minner\u001b[1;34m(ax, data, *args, **kwargs)\u001b[0m\n\u001b[0;32m   1808\u001b[0m                         \u001b[1;34m\"the Matplotlib list!)\"\u001b[0m \u001b[1;33m%\u001b[0m \u001b[1;33m(\u001b[0m\u001b[0mlabel_namer\u001b[0m\u001b[1;33m,\u001b[0m \u001b[0mfunc\u001b[0m\u001b[1;33m.\u001b[0m\u001b[0m__name__\u001b[0m\u001b[1;33m)\u001b[0m\u001b[1;33m,\u001b[0m\u001b[1;33m\u001b[0m\u001b[1;33m\u001b[0m\u001b[0m\n\u001b[0;32m   1809\u001b[0m                         RuntimeWarning, stacklevel=2)\n\u001b[1;32m-> 1810\u001b[1;33m             \u001b[1;32mreturn\u001b[0m \u001b[0mfunc\u001b[0m\u001b[1;33m(\u001b[0m\u001b[0max\u001b[0m\u001b[1;33m,\u001b[0m \u001b[1;33m*\u001b[0m\u001b[0margs\u001b[0m\u001b[1;33m,\u001b[0m \u001b[1;33m**\u001b[0m\u001b[0mkwargs\u001b[0m\u001b[1;33m)\u001b[0m\u001b[1;33m\u001b[0m\u001b[1;33m\u001b[0m\u001b[0m\n\u001b[0m\u001b[0;32m   1811\u001b[0m \u001b[1;33m\u001b[0m\u001b[0m\n\u001b[0;32m   1812\u001b[0m         inner.__doc__ = _add_data_doc(inner.__doc__,\n",
      "\u001b[1;32m~\\AppData\\Local\\Continuum\\anaconda3\\lib\\site-packages\\matplotlib\\axes\\_axes.py\u001b[0m in \u001b[0;36mbar\u001b[1;34m(self, x, height, width, bottom, align, **kwargs)\u001b[0m\n\u001b[0;32m   2294\u001b[0m                 \u001b[0medgecolor\u001b[0m\u001b[1;33m=\u001b[0m\u001b[0me\u001b[0m\u001b[1;33m,\u001b[0m\u001b[1;33m\u001b[0m\u001b[1;33m\u001b[0m\u001b[0m\n\u001b[0;32m   2295\u001b[0m                 \u001b[0mlinewidth\u001b[0m\u001b[1;33m=\u001b[0m\u001b[0mlw\u001b[0m\u001b[1;33m,\u001b[0m\u001b[1;33m\u001b[0m\u001b[1;33m\u001b[0m\u001b[0m\n\u001b[1;32m-> 2296\u001b[1;33m                 \u001b[0mlabel\u001b[0m\u001b[1;33m=\u001b[0m\u001b[1;34m'_nolegend_'\u001b[0m\u001b[1;33m,\u001b[0m\u001b[1;33m\u001b[0m\u001b[1;33m\u001b[0m\u001b[0m\n\u001b[0m\u001b[0;32m   2297\u001b[0m                 )\n\u001b[0;32m   2298\u001b[0m             \u001b[0mr\u001b[0m\u001b[1;33m.\u001b[0m\u001b[0mupdate\u001b[0m\u001b[1;33m(\u001b[0m\u001b[0mkwargs\u001b[0m\u001b[1;33m)\u001b[0m\u001b[1;33m\u001b[0m\u001b[1;33m\u001b[0m\u001b[0m\n",
      "\u001b[1;32m~\\AppData\\Local\\Continuum\\anaconda3\\lib\\site-packages\\matplotlib\\patches.py\u001b[0m in \u001b[0;36m__init__\u001b[1;34m(self, xy, width, height, angle, **kwargs)\u001b[0m\n\u001b[0;32m    656\u001b[0m         \"\"\"\n\u001b[0;32m    657\u001b[0m \u001b[1;33m\u001b[0m\u001b[0m\n\u001b[1;32m--> 658\u001b[1;33m         \u001b[0mPatch\u001b[0m\u001b[1;33m.\u001b[0m\u001b[0m__init__\u001b[0m\u001b[1;33m(\u001b[0m\u001b[0mself\u001b[0m\u001b[1;33m,\u001b[0m \u001b[1;33m**\u001b[0m\u001b[0mkwargs\u001b[0m\u001b[1;33m)\u001b[0m\u001b[1;33m\u001b[0m\u001b[1;33m\u001b[0m\u001b[0m\n\u001b[0m\u001b[0;32m    659\u001b[0m \u001b[1;33m\u001b[0m\u001b[0m\n\u001b[0;32m    660\u001b[0m         \u001b[0mself\u001b[0m\u001b[1;33m.\u001b[0m\u001b[0m_x0\u001b[0m \u001b[1;33m=\u001b[0m \u001b[0mxy\u001b[0m\u001b[1;33m[\u001b[0m\u001b[1;36m0\u001b[0m\u001b[1;33m]\u001b[0m\u001b[1;33m\u001b[0m\u001b[1;33m\u001b[0m\u001b[0m\n",
      "\u001b[1;32m~\\AppData\\Local\\Continuum\\anaconda3\\lib\\site-packages\\matplotlib\\patches.py\u001b[0m in \u001b[0;36m__init__\u001b[1;34m(self, edgecolor, facecolor, color, linewidth, linestyle, antialiased, hatch, fill, capstyle, joinstyle, **kwargs)\u001b[0m\n\u001b[0;32m     85\u001b[0m         \u001b[0mself\u001b[0m\u001b[1;33m.\u001b[0m\u001b[0mset_fill\u001b[0m\u001b[1;33m(\u001b[0m\u001b[0mfill\u001b[0m\u001b[1;33m)\u001b[0m\u001b[1;33m\u001b[0m\u001b[1;33m\u001b[0m\u001b[0m\n\u001b[0;32m     86\u001b[0m         \u001b[0mself\u001b[0m\u001b[1;33m.\u001b[0m\u001b[0mset_linestyle\u001b[0m\u001b[1;33m(\u001b[0m\u001b[0mlinestyle\u001b[0m\u001b[1;33m)\u001b[0m\u001b[1;33m\u001b[0m\u001b[1;33m\u001b[0m\u001b[0m\n\u001b[1;32m---> 87\u001b[1;33m         \u001b[0mself\u001b[0m\u001b[1;33m.\u001b[0m\u001b[0mset_linewidth\u001b[0m\u001b[1;33m(\u001b[0m\u001b[0mlinewidth\u001b[0m\u001b[1;33m)\u001b[0m\u001b[1;33m\u001b[0m\u001b[1;33m\u001b[0m\u001b[0m\n\u001b[0m\u001b[0;32m     88\u001b[0m         \u001b[0mself\u001b[0m\u001b[1;33m.\u001b[0m\u001b[0mset_antialiased\u001b[0m\u001b[1;33m(\u001b[0m\u001b[0mantialiased\u001b[0m\u001b[1;33m)\u001b[0m\u001b[1;33m\u001b[0m\u001b[1;33m\u001b[0m\u001b[0m\n\u001b[0;32m     89\u001b[0m         \u001b[0mself\u001b[0m\u001b[1;33m.\u001b[0m\u001b[0mset_hatch\u001b[0m\u001b[1;33m(\u001b[0m\u001b[0mhatch\u001b[0m\u001b[1;33m)\u001b[0m\u001b[1;33m\u001b[0m\u001b[1;33m\u001b[0m\u001b[0m\n",
      "\u001b[1;32m~\\AppData\\Local\\Continuum\\anaconda3\\lib\\site-packages\\matplotlib\\patches.py\u001b[0m in \u001b[0;36mset_linewidth\u001b[1;34m(self, w)\u001b[0m\n\u001b[0;32m    346\u001b[0m                 \u001b[0mw\u001b[0m \u001b[1;33m=\u001b[0m \u001b[0mmpl\u001b[0m\u001b[1;33m.\u001b[0m\u001b[0mrcParams\u001b[0m\u001b[1;33m[\u001b[0m\u001b[1;34m'axes.linewidth'\u001b[0m\u001b[1;33m]\u001b[0m\u001b[1;33m\u001b[0m\u001b[1;33m\u001b[0m\u001b[0m\n\u001b[0;32m    347\u001b[0m \u001b[1;33m\u001b[0m\u001b[0m\n\u001b[1;32m--> 348\u001b[1;33m         \u001b[0mself\u001b[0m\u001b[1;33m.\u001b[0m\u001b[0m_linewidth\u001b[0m \u001b[1;33m=\u001b[0m \u001b[0mfloat\u001b[0m\u001b[1;33m(\u001b[0m\u001b[0mw\u001b[0m\u001b[1;33m)\u001b[0m\u001b[1;33m\u001b[0m\u001b[1;33m\u001b[0m\u001b[0m\n\u001b[0m\u001b[0;32m    349\u001b[0m         \u001b[1;31m# scale the dash pattern by the linewidth\u001b[0m\u001b[1;33m\u001b[0m\u001b[1;33m\u001b[0m\u001b[1;33m\u001b[0m\u001b[0m\n\u001b[0;32m    350\u001b[0m         \u001b[0moffset\u001b[0m\u001b[1;33m,\u001b[0m \u001b[0mls\u001b[0m \u001b[1;33m=\u001b[0m \u001b[0mself\u001b[0m\u001b[1;33m.\u001b[0m\u001b[0m_us_dashes\u001b[0m\u001b[1;33m\u001b[0m\u001b[1;33m\u001b[0m\u001b[0m\n",
      "\u001b[1;31mTypeError\u001b[0m: only size-1 arrays can be converted to Python scalars"
     ]
    },
    {
     "data": {
      "image/png": "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\n",
      "text/plain": [
       "<Figure size 432x288 with 1 Axes>"
      ]
     },
     "metadata": {
      "needs_background": "light"
     },
     "output_type": "display_data"
    }
   ],
   "source": [
    "datos['month'] = pd.DatetimeIndex(datos['date']).month\n",
    "\n",
    "# Agrupaciones para concer los datos\n",
    "# Obtener la participación de fallas por mes\n",
    "Total = datos['failure'].sum()\n",
    "failure_part = datos.groupby(datos['month']).sum()[['failure']]\n",
    "\n",
    "\n",
    "print(failure_part['failure'],failure_part)\n",
    "\n",
    "\n",
    "plt.bar(failure_part['failure'],failure_part)\n",
    "plt.xlabel(\"Mes\")\n",
    "plt.ylabel(\"Fallas\")\n"
   ]
  },
  {
   "cell_type": "code",
   "execution_count": null,
   "metadata": {},
   "outputs": [],
   "source": []
  }
 ],
 "metadata": {
  "kernelspec": {
   "display_name": "Python 3",
   "language": "python",
   "name": "python3"
  },
  "language_info": {
   "codemirror_mode": {
    "name": "ipython",
    "version": 3
   },
   "file_extension": ".py",
   "mimetype": "text/x-python",
   "name": "python",
   "nbconvert_exporter": "python",
   "pygments_lexer": "ipython3",
   "version": "3.7.1"
  }
 },
 "nbformat": 4,
 "nbformat_minor": 2
}
